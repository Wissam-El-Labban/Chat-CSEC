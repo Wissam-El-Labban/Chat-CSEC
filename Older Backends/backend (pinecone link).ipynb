{
 "cells": [
  {
   "cell_type": "code",
   "execution_count": 28,
   "metadata": {},
   "outputs": [],
   "source": [
    "import os\n",
    "import getpass\n",
    "from langchain.embeddings import OpenAIEmbeddings\n",
    "from langchain.text_splitter import RecursiveCharacterTextSplitter\n",
    "from langchain.llms import OpenAI\n",
    "from langchain.chat_models import ChatOpenAI\n",
    "from langchain.memory import ChatMessageHistory, ConversationBufferMemory\n",
    "from langchain.chains import RetrievalQA, ConversationalRetrievalChain, ConversationChain\n",
    "from langchain.document_loaders import TextLoader\n",
    "from langchain.document_loaders import DirectoryLoader\n",
    "from langchain.chains.question_answering import load_qa_chain\n",
    "from langchain.prompts import PromptTemplate\n",
    "from langchain.vectorstores import Pinecone\n",
    "from langchain.embeddings.openai import OpenAIEmbeddings\n",
    "import pinecone\n",
    "# importing key variables from key file\n",
    "import keys\n",
    "\n",
    "OPENAI_API_KEY = keys.OPENAI_API_KEY\n",
    "PINECONE_API_KEY = keys.PINECONE_API_KEY\n",
    "PINECONE_API_ENV = keys.PINECONE_API_ENV\n",
    "\n",
    "\n",
    "embeddings = OpenAIEmbeddings(openai_api_key=OPENAI_API_KEY)\n",
    "\n",
    "# temperature in the function below is 0. this is the randomness variable. a temperature value > 1 will be completely random. \n",
    "# the value below is at 0 to have no randomness. this coupled with our relevant document search is our method of mitigating hallucinations from the LLM\n",
    "\n",
    "#llm = ChatOpenAI(model='gpt-3.5-turbo',temperature=0, openai_api_key=API_Key)\n",
    "\n",
    "prompt_template = \"\"\"Use the following pieces of retrieved documents to answer the question at the end. Please think rationally, take chat history into consideration, and answer from your own knowledge base. If you really can't construct an answer, then answer with 'no'.\n",
    "{context}\n",
    "{chat_history}\n",
    "question: {question}\n",
    "Answer:\n",
    "\"\"\"\n",
    "\n",
    "PROMPT = PromptTemplate(template=prompt_template, input_variables=[\"context\", \"question\", \"chat_history\"])\n",
    "chain_type_kywargs = {\"prompt\": PROMPT}\n",
    "\n",
    "\n",
    "model_name = 'gpt-3.5-turbo'\n",
    "\n",
    "\n",
    "query = ''\n",
    "\n",
    "global memory\n",
    "\n",
    "model = ChatOpenAI(model_name=model_name, temperature=0, openai_api_key=OPENAI_API_KEY)\n",
    "memory = ConversationBufferMemory(memory_key=\"chat_history\",return_messages=True)\n"
   ]
  },
  {
   "cell_type": "code",
   "execution_count": 29,
   "metadata": {},
   "outputs": [],
   "source": [
    "pinecone.init(\n",
    "    api_key=PINECONE_API_KEY,  # find at app.pinecone.io\n",
    "    environment=PINECONE_API_ENV  # next to api key in console\n",
    ")\n",
    "index= \"test1\" \n",
    "# put in the name of your pinecone index here"
   ]
  },
  {
   "cell_type": "code",
   "execution_count": 30,
   "metadata": {},
   "outputs": [],
   "source": [
    "vectordb = Pinecone.from_existing_index(index_name=index, embedding=embeddings)\n",
    "qa = ConversationalRetrievalChain.from_llm(llm=model, retriever=vectordb.as_retriever(search_type=\"similarity\", search_kwargs={'k': 10}), memory=memory, combine_docs_chain_kwargs={\"prompt\":PROMPT})\n",
    "gpt_qa = ConversationChain(llm=model)"
   ]
  },
  {
   "cell_type": "code",
   "execution_count": 31,
   "metadata": {},
   "outputs": [],
   "source": [
    "# retriever = vectordb.as_retriever()"
   ]
  },
  {
   "cell_type": "code",
   "execution_count": 33,
   "metadata": {},
   "outputs": [
    {
     "name": "stdout",
     "output_type": "stream",
     "text": [
      "Human: you can assist by telling me about kinds of malware\n",
      "\n",
      "Chat CSEC: Based on the retrieved documents, the following types of malware are mentioned:\n",
      "\n",
      "1. Cryptominers: These are malware programs that use the victim's computer resources to mine cryptocurrencies, resulting in increased IT costs and electricity consumption.\n",
      "\n",
      "2. Viruses: Viruses are a type of malware that self-replicate and infect new hosts. Common examples include boot sector viruses, browser hijackers, file infectors, macro viruses, and polymorphic viruses.\n",
      "\n",
      "3. Ransomware: Ransomware is a type of malware that encrypts the victim's files and demands a ransom payment in exchange for restoring access to the files.\n",
      "\n",
      "4. Worms: Worms are self-replicating malware that spread through networks and exploit system vulnerabilities to infect other devices.\n",
      "\n",
      "5. Spyware: Spyware is surveillance software that collects information about a user's web activity without their knowledge or consent. Adware, a type of spyware, monitors online activity to determine which ads to show the user.\n",
      "\n",
      "6. Trojans: Trojans are malware disguised as legitimate software, designed to trick users through social engineering techniques such as phishing or bait websites.\n",
      "\n",
      "7. Fileless malware: Fileless malware does not require the installation of malicious code on a target's system, making it harder to detect.\n",
      "\n",
      "8. Keyloggers: Keyloggers are spyware that monitor user activity, typically installed through phishing. They can steal passwords, user IDs, banking details, and other information.\n",
      "\n",
      "9. Scareware: Scareware is a type of malware that tricks users into believing their computer is infected, persuading them to install fake antivirus software that is actually malware.\n",
      "\n",
      "It is important to note that this answer is based on the information provided in the retrieved documents and may not encompass all types of malware.\n",
      "\n",
      "Human: go into more details about keyloggers\n",
      "\n",
      "Chat CSEC: Keyloggers, also known as keystroke loggers, are tools or software that record every keystroke entered on a device. They can capture sensitive information such as passwords, user IDs, banking details, and other personal information. Keyloggers can be inserted into a system through various methods, including phishing, social engineering, or malicious downloads.\n",
      "\n",
      "There are two types of keyloggers: hardware keyloggers and software keyloggers. Hardware keyloggers are physical devices that record keystrokes and can be disguised in computer cabling or USB adapters. However, they require physical access to the device, so they are not commonly used in cyberattacks. Software keyloggers, on the other hand, do not require physical access and can be downloaded onto a device. Users may download software keyloggers intentionally or inadvertently along with malware.\n",
      "\n",
      "Keyloggers can recognize patterns in keystrokes to identify sensitive information more easily. For example, a keylogger can be programmed to monitor for a specific keystroke, such as the at sign (@), which is commonly used in email addresses. This technique helps malicious users quickly identify sensitive information like password credentials.\n",
      "\n",
      "While there are legal uses for keyloggers, such as parental monitoring or employee productivity tracking, they are commonly used by malicious users to monitor and steal sensitive information. It is important to be aware of the risks associated with keyloggers and take preventive measures to protect against them.\n",
      "\n"
     ]
    }
   ],
   "source": [
    "# the below is our current chat backend. in later sprints we will have user interface. but the below is fine for our testing purposes\n",
    "# if the user types exit, the loop ends\n",
    "while True:\n",
    "    query = str(input(\"Human: \"))\n",
    "    if query == 'exit':\n",
    "        break\n",
    "    print(f'Human: {query}')\n",
    "    print()\n",
    "    response = qa.run(query)\n",
    "    \n",
    "    if response == 'no' or response == 'No' or response == 'no.' or response == 'No.':\n",
    "        print(\"referring to chatgpt\")\n",
    "        gptresponse = gpt_qa.run(query)\n",
    "        print(gptresponse)\n",
    "        memory.save_context({\"input\": query}, {\"output\": gptresponse})\n",
    "        print()\n",
    "    else:\n",
    "        print(f'Chat CSEC: {response}')\n",
    "        print()"
   ]
  }
 ],
 "metadata": {
  "kernelspec": {
   "display_name": "ChatCSEC",
   "language": "python",
   "name": "python3"
  },
  "language_info": {
   "codemirror_mode": {
    "name": "ipython",
    "version": 3
   },
   "file_extension": ".py",
   "mimetype": "text/x-python",
   "name": "python",
   "nbconvert_exporter": "python",
   "pygments_lexer": "ipython3",
   "version": "3.9.17"
  },
  "orig_nbformat": 4
 },
 "nbformat": 4,
 "nbformat_minor": 2
}
